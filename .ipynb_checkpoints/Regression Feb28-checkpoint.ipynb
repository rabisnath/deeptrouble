{
 "cells": [
  {
   "cell_type": "code",
   "execution_count": 10,
   "id": "aec8cf80",
   "metadata": {},
   "outputs": [],
   "source": [
    "from LeNet_example import layers\n",
    "from LeNet_example import lenet"
   ]
  },
  {
   "cell_type": "code",
   "execution_count": 12,
   "id": "7d7aec35",
   "metadata": {},
   "outputs": [],
   "source": [
    "from LeNet_example.lenet import LeNet, Bayesian_LeNet"
   ]
  },
  {
   "cell_type": "code",
   "execution_count": 13,
   "id": "f6e55487",
   "metadata": {},
   "outputs": [],
   "source": [
    "from sklearn.metrics import classification_report\n",
    "from torch.utils.data import random_split\n",
    "from torch.utils.data import DataLoader\n",
    "from torchvision.transforms import ToTensor\n",
    "from torchvision.datasets import MNIST\n",
    "from torch.optim import Adam\n",
    "from torch import nn\n",
    "import matplotlib.pyplot as plt\n",
    "import numpy as np\n",
    "import argparse\n",
    "import torch\n",
    "import time"
   ]
  },
  {
   "cell_type": "code",
   "execution_count": 14,
   "id": "cd8b27c2",
   "metadata": {},
   "outputs": [],
   "source": [
    "import matplotlib"
   ]
  },
  {
   "cell_type": "markdown",
   "id": "e45244e2",
   "metadata": {},
   "source": [
    "# Architecture"
   ]
  },
  {
   "cell_type": "code",
   "execution_count": 15,
   "id": "144e1f1e",
   "metadata": {},
   "outputs": [],
   "source": [
    "from torch._C import InferredType\n",
    "from torch.nn import Module # Base class for all nn modules in PyTorch\n",
    "from torch.nn import Conv2d\n",
    "from torch.nn import Linear\n",
    "from torch.nn import MaxPool2d\n",
    "from torch.nn import ReLU\n",
    "from torch.nn import LogSoftmax\n",
    "from torch import flatten\n",
    "from LeNet_example.layers import BBBConv2d, BBBLinear, FlattenLayer"
   ]
  },
  {
   "cell_type": "code",
   "execution_count": 16,
   "id": "b1f8d4a9",
   "metadata": {},
   "outputs": [],
   "source": [
    "class Bayesian_LeNet_R(Module):\n",
    "    '''\n",
    "    A version of the Bayesian_LeNet class modified for Regression\n",
    "    as opposed to classification\n",
    "    '''\n",
    "    def __init__(self, n_channels):\n",
    "        '''\n",
    "        n_channels: the number of channels in the input images\n",
    "        n_classes: the number of unique labels/outputs represented in the dataset\n",
    "\n",
    "        '''\n",
    "        # calling the constructor for the Module class\n",
    "        super(Bayesian_LeNet, self).__init__()\n",
    "\n",
    "        # A set of Conv, ReLU and Pool layers\n",
    "        self.conv1 = BBBConv2d(in_channels=n_channels, out_channels=20, kernel_size=(5,5))\n",
    "        self.relu1 = ReLU()\n",
    "        self.maxpool1 = MaxPool2d(kernel_size=(2, 2), stride=(2, 2))\n",
    "\n",
    "        # A second set of Conv, ReLU and Pool layers\n",
    "        self.conv2 = BBBConv2d(in_channels=20, out_channels=50, kernel_size=(5,5))\n",
    "        self.relu2 = ReLU()\n",
    "        self.maxpool2 = MaxPool2d(kernel_size=(2, 2), stride=(2, 2))\n",
    "\n",
    "        # A fully connected layer followed by a ReLU\n",
    "        self.flatten = FlattenLayer(800)\n",
    "        self.fc1 = BBBLinear(in_features=800, out_features=500)\n",
    "        self.relu3 = ReLU()\n",
    "\n",
    "        # A fully connected layer with a single output representing\n",
    "        # the network output\n",
    "        self.fc2 = BBBLinear(in_features=500, out_features=1)\n",
    "\n",
    "    def forward(self, x):\n",
    "        '''\n",
    "        Accepts a batch of input data to feed to the network, \n",
    "        returns the network predictions\n",
    "\n",
    "        '''\n",
    "        # pass the input through our first set of CONV => RELU =>\n",
    "\t\t# POOL layers \n",
    "        x = self.conv1(x)\n",
    "        x = self.relu1(x)\n",
    "        x = self.maxpool1(x)\n",
    "\t\t# pass the output from the previous layer through the second\n",
    "\t\t# set of CONV => RELU => POOL layers\n",
    "        x = self.conv2(x)\n",
    "        x = self.relu2(x)\n",
    "        x = self.maxpool2(x)\n",
    "\t\t# flatten the output from the previous layer and pass it\n",
    "\t\t# through our only set of FC => RELU layers\n",
    "        x = self.flatten(x)\n",
    "        x = self.fc1(x)\n",
    "        x = self.relu3(x)\n",
    "\t\t# pass the output to our softmax classifier to get our output\n",
    "\t\t# predictions\n",
    "        x = self.fc2(x)\n",
    "        output = x\n",
    "\t\t# return the output predictions\n",
    "        return output\n"
   ]
  },
  {
   "cell_type": "code",
   "execution_count": null,
   "id": "f4569bed",
   "metadata": {},
   "outputs": [],
   "source": []
  },
  {
   "cell_type": "code",
   "execution_count": null,
   "id": "ad7e8a89",
   "metadata": {},
   "outputs": [],
   "source": []
  },
  {
   "cell_type": "code",
   "execution_count": null,
   "id": "874cec7f",
   "metadata": {},
   "outputs": [],
   "source": []
  },
  {
   "cell_type": "code",
   "execution_count": null,
   "id": "8c476e6d",
   "metadata": {},
   "outputs": [],
   "source": []
  }
 ],
 "metadata": {
  "kernelspec": {
   "display_name": "Python 3 (ipykernel)",
   "language": "python",
   "name": "python3"
  },
  "language_info": {
   "codemirror_mode": {
    "name": "ipython",
    "version": 3
   },
   "file_extension": ".py",
   "mimetype": "text/x-python",
   "name": "python",
   "nbconvert_exporter": "python",
   "pygments_lexer": "ipython3",
   "version": "3.9.6"
  }
 },
 "nbformat": 4,
 "nbformat_minor": 5
}
