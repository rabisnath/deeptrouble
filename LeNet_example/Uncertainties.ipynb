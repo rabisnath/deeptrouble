{
 "cells": [
  {
   "cell_type": "markdown",
   "id": "5d8fc9e7",
   "metadata": {},
   "source": [
    "## Loading Trained Models and Data"
   ]
  },
  {
   "cell_type": "code",
   "execution_count": 2,
   "id": "24d92cf1",
   "metadata": {},
   "outputs": [],
   "source": [
    "import numpy as np\n",
    "import torch\n",
    "from torch.utils.data import DataLoader\n",
    "from torch.utils.data import Subset\n",
    "from torchvision.transforms import ToTensor\n",
    "from torchvision.datasets import MNIST\n",
    "from torch.nn import functional as F\n",
    "import imutils\n",
    "import cv2"
   ]
  },
  {
   "cell_type": "code",
   "execution_count": 3,
   "id": "eff3198c",
   "metadata": {},
   "outputs": [],
   "source": [
    "# Loading data from MNIST and grabbing N data points\n",
    "N = 10\n",
    "test_data = MNIST(root='data', train=False, download=True, transform=ToTensor())\n",
    "indxs = np.random.choice(range(len(test_data)), size=(N,))\n",
    "test_data = Subset(test_data, indxs)\n",
    "\n",
    "# Initializing test data loader\n",
    "test_data_loader = DataLoader(test_data, batch_size=1)"
   ]
  },
  {
   "cell_type": "code",
   "execution_count": 4,
   "id": "5ad02d21",
   "metadata": {},
   "outputs": [
    {
     "data": {
      "text/plain": [
       "''"
      ]
     },
     "execution_count": 4,
     "metadata": {},
     "output_type": "execute_result"
    }
   ],
   "source": [
    "# Loading our saved models\n",
    "# the following abbreviations are used throughout:\n",
    "# freq -> normal LeNet\n",
    "# bayes -> bayesian version of LeNet\n",
    "\n",
    "freq_path = 'output/freq_model.pth'\n",
    "bayes_path = 'output/bayesian_model.pth'\n",
    "\n",
    "device = torch.device(\"cuda\" if torch.cuda.is_available() else \"cpu\")\n",
    "\n",
    "freq_model = torch.load(freq_path).to(device)\n",
    "bayes_model = torch.load(bayes_path).to(device)\n",
    "\n",
    "freq_model.eval()\n",
    "bayes_model.eval()\n",
    "\n",
    ";"
   ]
  },
  {
   "cell_type": "markdown",
   "id": "64d5a615",
   "metadata": {},
   "source": [
    "## Making Predictions"
   ]
  },
  {
   "cell_type": "code",
   "execution_count": 5,
   "id": "f6dc2339",
   "metadata": {},
   "outputs": [],
   "source": [
    "pictures = []"
   ]
  },
  {
   "cell_type": "code",
   "execution_count": 8,
   "id": "c9018a37",
   "metadata": {},
   "outputs": [],
   "source": [
    "# let's make a batch of predictions for the frequentist model\n",
    "# after we write this explicitly, there should be some parts we \n",
    "# can make into their own functions\n",
    "\n",
    "torch.no_grad()\n",
    "\n",
    "trial_no = 0\n",
    "\n",
    "for (img, label) in test_data_loader:\n",
    "    trial_no += 1\n",
    "\n",
    "    # getting original img and interpreting the label\n",
    "    original_img = img.numpy().squeeze(axis=(0,1))\n",
    "    ground_truth_label = test_data.dataset.classes[label.numpy()[0]]\n",
    "\n",
    "    #pictures.append(original_img)\n",
    "    \n",
    "    network_output = freq_model(img)\n",
    "    prediction = torch.mean(network_output, dim=0).cpu().detach().numpy()\n",
    "    predicted_indx = prediction.argmax(axis=0)\n",
    "    predicted_label = test_data.dataset.classes[predicted_indx]\n",
    "    \n",
    "    color = (0, 255, 0) if ground_truth_label == predicted_label else (0, 0, 255)\n",
    "    original_img = np.dstack([original_img] * 3)\n",
    "    original_img = imutils.resize(original_img, width=128)\n",
    "    original_img = cv2.putText(original_img, ground_truth_label, (2, 25), cv2.FONT_HERSHEY_SIMPLEX, 0.75, color, 2)\n",
    "    #text_summary = \"Trial: {}\\n Ground truth label: {}, predicted label: {}\\n\".format(trial_no, ground_truth_label, predicted_label)\n",
    "    \n",
    "    cv2.imwrite('test_output.png', original_img*255)\n",
    "    #display(Image(filename='test_output.png'))\n",
    "    \n",
    "    \n",
    "    \n",
    "    \n"
   ]
  },
  {
   "cell_type": "code",
   "execution_count": 9,
   "id": "9cfbfc83",
   "metadata": {},
   "outputs": [],
   "source": [
    "# function: get pred for single model/image\n",
    "# function: make prediction grid(n)\n",
    "# function: get pred and uncertainties for a single model/image\n",
    "# function: get p_hat from network out\n",
    "# function: display pred's and uc's "
   ]
  },
  {
   "cell_type": "code",
   "execution_count": 10,
   "id": "0636ec77",
   "metadata": {},
   "outputs": [
    {
     "ename": "IndexError",
     "evalue": "list index out of range",
     "output_type": "error",
     "traceback": [
      "\u001b[0;31m---------------------------------------------------------------------------\u001b[0m",
      "\u001b[0;31mIndexError\u001b[0m                                Traceback (most recent call last)",
      "\u001b[0;32m/var/folders/nk/5v7kxgsd4jq9wkzh_9_0p6600000gn/T/ipykernel_50113/274285726.py\u001b[0m in \u001b[0;36m<module>\u001b[0;34m\u001b[0m\n\u001b[1;32m      2\u001b[0m \u001b[0;34m\u001b[0m\u001b[0m\n\u001b[1;32m      3\u001b[0m \u001b[0;34m\u001b[0m\u001b[0m\n\u001b[0;32m----> 4\u001b[0;31m \u001b[0moriginal_img\u001b[0m \u001b[0;34m=\u001b[0m \u001b[0mpictures\u001b[0m\u001b[0;34m[\u001b[0m\u001b[0;36m0\u001b[0m\u001b[0;34m]\u001b[0m\u001b[0;34m\u001b[0m\u001b[0;34m\u001b[0m\u001b[0m\n\u001b[0m\u001b[1;32m      5\u001b[0m \u001b[0moriginal_img\u001b[0m \u001b[0;34m=\u001b[0m \u001b[0mnp\u001b[0m\u001b[0;34m.\u001b[0m\u001b[0mdstack\u001b[0m\u001b[0;34m(\u001b[0m\u001b[0;34m[\u001b[0m\u001b[0moriginal_img\u001b[0m\u001b[0;34m]\u001b[0m \u001b[0;34m*\u001b[0m \u001b[0;36m3\u001b[0m\u001b[0;34m)\u001b[0m\u001b[0;34m\u001b[0m\u001b[0;34m\u001b[0m\u001b[0m\n\u001b[1;32m      6\u001b[0m \u001b[0moriginal_img\u001b[0m \u001b[0;34m=\u001b[0m \u001b[0mimutils\u001b[0m\u001b[0;34m.\u001b[0m\u001b[0mresize\u001b[0m\u001b[0;34m(\u001b[0m\u001b[0moriginal_img\u001b[0m\u001b[0;34m,\u001b[0m \u001b[0mwidth\u001b[0m\u001b[0;34m=\u001b[0m\u001b[0;36m128\u001b[0m\u001b[0;34m)\u001b[0m\u001b[0;34m\u001b[0m\u001b[0;34m\u001b[0m\u001b[0m\n",
      "\u001b[0;31mIndexError\u001b[0m: list index out of range"
     ]
    }
   ],
   "source": [
    "from IPython.display import Image, display\n",
    "\n",
    "\n",
    "original_img = pictures[0]\n",
    "original_img = np.dstack([original_img] * 3)\n",
    "original_img = imutils.resize(original_img, width=128)\n",
    "\n",
    "cv2.imwrite('test_output.png', original_img*255)\n",
    "\n",
    "#display(Image(filename='test_output.png'))"
   ]
  },
  {
   "cell_type": "code",
   "execution_count": null,
   "id": "203e81c2",
   "metadata": {},
   "outputs": [],
   "source": []
  },
  {
   "cell_type": "code",
   "execution_count": 49,
   "id": "5408005b",
   "metadata": {},
   "outputs": [
    {
     "name": "stdout",
     "output_type": "stream",
     "text": [
      "Trial: 31\n",
      " Ground truth label: 9 - nine, predicted label: 9 - nine\n",
      " uncertainty from model: 0.0\n",
      "uncertainty from data: 0.0\n",
      "total uncertainty: 0.0\n"
     ]
    },
    {
     "data": {
      "image/png": "[encoded data removed]",
      "text/plain": [
       "<IPython.core.display.Image object>"
      ]
     },
     "metadata": {},
     "output_type": "display_data"
    },
    {
     "name": "stdout",
     "output_type": "stream",
     "text": [
      "Trial: 32\n",
      " Ground truth label: 0 - zero, predicted label: 0 - zero\n",
      " uncertainty from model: 0.0\n",
      "uncertainty from data: 0.0\n",
      "total uncertainty: 0.0\n"
     ]
    },
    {
     "data": {
      "image/png": "[encoded data removed]",
      "text/plain": [
       "<IPython.core.display.Image object>"
      ]
     },
     "metadata": {},
     "output_type": "display_data"
    },
    {
     "name": "stdout",
     "output_type": "stream",
     "text": [
      "Trial: 33\n",
      " Ground truth label: 3 - three, predicted label: 3 - three\n",
      " uncertainty from model: 0.0\n",
      "uncertainty from data: 0.0\n",
      "total uncertainty: 0.0\n"
     ]
    },
    {
     "data": {
      "image/png": "[encoded data removed]",
      "text/plain": [
       "<IPython.core.display.Image object>"
      ]
     },
     "metadata": {},
     "output_type": "display_data"
    },
    {
     "name": "stdout",
     "output_type": "stream",
     "text": [
      "Trial: 34\n",
      " Ground truth label: 5 - five, predicted label: 5 - five\n",
      " uncertainty from model: 0.0\n",
      "uncertainty from data: 0.0\n",
      "total uncertainty: 0.0\n"
     ]
    },
    {
     "data": {
      "image/png": "[encoded data removed]",
      "text/plain": [
       "<IPython.core.display.Image object>"
      ]
     },
     "metadata": {},
     "output_type": "display_data"
    },
    {
     "name": "stdout",
     "output_type": "stream",
     "text": [
      "Trial: 35\n",
      " Ground truth label: 8 - eight, predicted label: 8 - eight\n",
      " uncertainty from model: 0.0\n",
      "uncertainty from data: 0.0\n",
      "total uncertainty: 0.0\n"
     ]
    },
    {
     "data": {
      "image/png": "[encoded data removed]",
      "text/plain": [
       "<IPython.core.display.Image object>"
      ]
     },
     "metadata": {},
     "output_type": "display_data"
    },
    {
     "name": "stdout",
     "output_type": "stream",
     "text": [
      "Trial: 36\n",
      " Ground truth label: 2 - two, predicted label: 2 - two\n",
      " uncertainty from model: 0.0\n",
      "uncertainty from data: 0.0\n",
      "total uncertainty: 0.0\n"
     ]
    },
    {
     "data": {
      "image/png": "[encoded data removed]",
      "text/plain": [
       "<IPython.core.display.Image object>"
      ]
     },
     "metadata": {},
     "output_type": "display_data"
    },
    {
     "name": "stdout",
     "output_type": "stream",
     "text": [
      "Trial: 37\n",
      " Ground truth label: 8 - eight, predicted label: 8 - eight\n",
      " uncertainty from model: 0.0\n",
      "uncertainty from data: 0.0\n",
      "total uncertainty: 0.0\n"
     ]
    },
    {
     "data": {
      "image/png": "[encoded data removed]",
      "text/plain": [
       "<IPython.core.display.Image object>"
      ]
     },
     "metadata": {},
     "output_type": "display_data"
    },
    {
     "name": "stdout",
     "output_type": "stream",
     "text": [
      "Trial: 38\n",
      " Ground truth label: 3 - three, predicted label: 3 - three\n",
      " uncertainty from model: 0.0\n",
      "uncertainty from data: 0.0\n",
      "total uncertainty: 0.0\n"
     ]
    },
    {
     "data": {
      "image/png": "[encoded data removed]",
      "text/plain": [
       "<IPython.core.display.Image object>"
      ]
     },
     "metadata": {},
     "output_type": "display_data"
    },
    {
     "name": "stdout",
     "output_type": "stream",
     "text": [
      "Trial: 39\n",
      " Ground truth label: 8 - eight, predicted label: 8 - eight\n",
      " uncertainty from model: 3.197442310920451e-14\n",
      "uncertainty from data: 1.7881393432617188e-07\n",
      "total uncertainty: 1.7881393432617473e-07\n"
     ]
    },
    {
     "data": {
      "image/png": "[encoded data removed]",
      "text/plain": [
       "<IPython.core.display.Image object>"
      ]
     },
     "metadata": {},
     "output_type": "display_data"
    },
    {
     "name": "stdout",
     "output_type": "stream",
     "text": [
      "Trial: 40\n",
      " Ground truth label: 3 - three, predicted label: 3 - three\n",
      " uncertainty from model: 0.0\n",
      "uncertainty from data: 0.0\n",
      "total uncertainty: 0.0\n"
     ]
    },
    {
     "data": {
      "image/png": "[encoded data removed]",
      "text/plain": [
       "<IPython.core.display.Image object>"
      ]
     },
     "metadata": {},
     "output_type": "display_data"
    }
   ],
   "source": [
    "# bayes model + trying to calculate uncertainties\n",
    "\n",
    "torch.no_grad()\n",
    "\n",
    "trail_no = 0\n",
    "T = 15\n",
    "\n",
    "for (img, label) in test_data_loader:\n",
    "    trial_no += 1\n",
    "\n",
    "    # getting original img and interpreting the label\n",
    "    original_img = img.numpy().squeeze(axis=(0,1))\n",
    "    ground_truth_label = test_data.dataset.classes[label.numpy()[0]]\n",
    "    \n",
    "    input_image = img.unsqueeze(0)\n",
    "    input_images = img.repeat(T, 1, 1, 1)\n",
    "\n",
    "    network_output = bayes_model(input_images)\n",
    "    prediction = torch.mean(network_output, dim=0).cpu().detach().numpy()\n",
    "    predicted_indx = prediction.argmax(axis=0)\n",
    "    predicted_label = test_data.dataset.classes[predicted_indx]\n",
    "    \n",
    "    \n",
    "    # getting uncertainties\n",
    "    normalized = False\n",
    "    if normalized:\n",
    "        pred = F.softplus(network_output)\n",
    "        p_hat = pred / torch.sum(pred, dim=1).unsqueeze(1)\n",
    "    else:\n",
    "        p_hat = F.softmax(network_output, dim=1)\n",
    "    p_hat = p_hat.detach().cpu().numpy()\n",
    "    p_bar = np.mean(p_hat, axis=0)\n",
    "    \n",
    "    temp = p_hat - np.expand_dims(p_bar, 0)\n",
    "    epistemic_ucs = np.dot(temp.T, temp) / T\n",
    "    epistemic_ucs = np.diag(epistemic_ucs)\n",
    "\n",
    "    aleatoric_ucs = np.diag(p_bar) - (np.dot(p_hat.T, p_hat) / T)\n",
    "    aleatoric_ucs = np.diag(aleatoric_ucs)\n",
    "    \n",
    "    epistemic = epistemic_ucs[predicted_indx]\n",
    "    aleatoric = aleatoric_ucs[predicted_indx]\n",
    "    total_uncertainty = np.sqrt(epistemic**2 + aleatoric**2)\n",
    "    \n",
    "    \n",
    "    color = (0, 255, 0) if ground_truth_label == predicted_label else (0, 0, 255)\n",
    "    original_img = np.dstack([original_img] * 3)\n",
    "    original_img = imutils.resize(original_img, width=128)\n",
    "    original_img = cv2.putText(original_img, ground_truth_label, (2, 25), cv2.FONT_HERSHEY_SIMPLEX, 0.75, color, 2)\n",
    "    text_summary = \"Trial: {}\\n Ground truth label: {}, predicted label: {}\\n\".format(trial_no, ground_truth_label, predicted_label)\n",
    "    uncertainty_annotation = \"uncertainty from model: {}\\nuncertainty from data: {}\\ntotal uncertainty: {}\".format(epistemic, aleatoric, total_uncertainty)\n",
    "    \n",
    "    \n",
    "    print(text_summary, uncertainty_annotation)\n",
    "    cv2.imwrite('test_output.png', original_img*255)\n",
    "    display(Image(filename='test_output.png'))"
   ]
  },
  {
   "cell_type": "code",
   "execution_count": 12,
   "id": "ca954e44",
   "metadata": {},
   "outputs": [
    {
     "name": "stdout",
     "output_type": "stream",
     "text": [
      "\u001b[33mDEPRECATION: Configuring installation scheme with distutils config files is deprecated and will no longer work in the near future. If you are using a Homebrew or Linuxbrew Python, please see discussion at https://github.com/Homebrew/homebrew-core/issues/76621\u001b[0m\n",
      "Requirement already satisfied: PrettyTable in /usr/local/lib/python3.9/site-packages (3.0.0)\n",
      "Requirement already satisfied: wcwidth in /usr/local/lib/python3.9/site-packages (from PrettyTable) (0.2.5)\n"
     ]
    }
   ],
   "source": [
    "import sys\n",
    "!{sys.executable} -m pip install PrettyTable"
   ]
  },
  {
   "cell_type": "code",
   "execution_count": 13,
   "id": "3a9d1abb",
   "metadata": {},
   "outputs": [],
   "source": [
    "from prettytable import PrettyTable"
   ]
  },
  {
   "cell_type": "code",
   "execution_count": 47,
   "id": "6e6749df",
   "metadata": {},
   "outputs": [],
   "source": [
    "def make_bayes_image(img, label, i=0):\n",
    "    with torch.no_grad():\n",
    "        # getting original img and interpreting the label\n",
    "        original_img = img.numpy().squeeze(axis=(0,1))\n",
    "        ground_truth_label = test_data.dataset.classes[label.numpy()[0]]\n",
    "\n",
    "        input_image = img.unsqueeze(0)\n",
    "        input_images = img.repeat(T, 1, 1, 1)\n",
    "\n",
    "        network_output = bayes_model(input_images)\n",
    "        prediction = torch.mean(network_output, dim=0).cpu().detach().numpy()\n",
    "        predicted_indx = prediction.argmax(axis=0)\n",
    "        predicted_label = test_data.dataset.classes[predicted_indx]\n",
    "\n",
    "\n",
    "        # getting uncertainties\n",
    "        normalized = False\n",
    "        if normalized:\n",
    "            pred = F.softplus(network_output)\n",
    "            p_hat = pred / torch.sum(pred, dim=1).unsqueeze(1)\n",
    "        else:\n",
    "            p_hat = F.softmax(network_output, dim=1)\n",
    "        p_hat = p_hat.detach().cpu().numpy()\n",
    "        p_bar = np.mean(p_hat, axis=0)\n",
    "\n",
    "        temp = p_hat - np.expand_dims(p_bar, 0)\n",
    "        epistemic_ucs = np.dot(temp.T, temp) / T\n",
    "        epistemic_ucs = np.diag(epistemic_ucs)\n",
    "\n",
    "        aleatoric_ucs = np.diag(p_bar) - (np.dot(p_hat.T, p_hat) / T)\n",
    "        aleatoric_ucs = np.diag(aleatoric_ucs)\n",
    "\n",
    "        epistemic = epistemic_ucs[predicted_indx]\n",
    "        aleatoric = aleatoric_ucs[predicted_indx]\n",
    "        total_uncertainty = np.sqrt(epistemic**2 + aleatoric**2)\n",
    "\n",
    "\n",
    "        color = (0, 255, 0) if ground_truth_label == predicted_label else (0, 0, 255)\n",
    "        original_img = np.dstack([original_img] * 3)\n",
    "        original_img = imutils.resize(original_img, width=128)\n",
    "        original_img = cv2.putText(original_img, ground_truth_label, (2, 25), cv2.FONT_HERSHEY_SIMPLEX, 0.75, color, 2)\n",
    "        text_summary = \"Trial: {}\\n Ground truth label: {}, predicted label: {}\\n\".format(trial_no, ground_truth_label, predicted_label)\n",
    "        uncertainty_annotation = \"uncertainty from model: {}\\nuncertainty from data: {}\\ntotal uncertainty: {}\".format(epistemic, aleatoric, total_uncertainty)\n",
    "\n",
    "\n",
    "        #print(text_summary, uncertainty_annotation)\n",
    "        cv2.imwrite('bayes_image_{}.png'.format(i), original_img*255)\n",
    "        display(Image(filename='bayes_image_{}.png'.format(i)))\n",
    "        \n",
    "        uc_table = PrettyTable()\n",
    "        uc_table.add_column(\"Category\", ['Ground Truth', 'Prediction', 'Epistemic Uncertainty', 'Aleatoric Uncertainty', 'Total Uncertainty'])\n",
    "        uc_table.add_column(\"Result\", [ground_truth_label, predicted_label, epistemic, aleatoric, total_uncertainty])\n",
    "        print(uc_table.get_string())\n",
    "\n",
    "            \n",
    "            "
   ]
  },
  {
   "cell_type": "code",
   "execution_count": 48,
   "id": "d2f43cdc",
   "metadata": {},
   "outputs": [
    {
     "data": {
      "image/png": "[encoded data removed]",
      "text/plain": [
       "<IPython.core.display.Image object>"
      ]
     },
     "metadata": {},
     "output_type": "display_data"
    },
    {
     "name": "stdout",
     "output_type": "stream",
     "text": [
      "+-----------------------+-----------------------+\n",
      "|        Category       |         Result        |\n",
      "+-----------------------+-----------------------+\n",
      "|      Ground Truth     |        9 - nine       |\n",
      "|       Prediction      |        9 - nine       |\n",
      "| Epistemic Uncertainty |      5.684342e-14     |\n",
      "| Aleatoric Uncertainty |     7.1525574e-07     |\n",
      "|   Total Uncertainty   | 7.152557373046897e-07 |\n",
      "+-----------------------+-----------------------+\n"
     ]
    },
    {
     "data": {
      "image/png": "[encoded data removed]",
      "text/plain": [
       "<IPython.core.display.Image object>"
      ]
     },
     "metadata": {},
     "output_type": "display_data"
    },
    {
     "name": "stdout",
     "output_type": "stream",
     "text": [
      "+-----------------------+----------+\n",
      "|        Category       |  Result  |\n",
      "+-----------------------+----------+\n",
      "|      Ground Truth     | 0 - zero |\n",
      "|       Prediction      | 0 - zero |\n",
      "| Epistemic Uncertainty |   0.0    |\n",
      "| Aleatoric Uncertainty |   0.0    |\n",
      "|   Total Uncertainty   |   0.0    |\n",
      "+-----------------------+----------+\n"
     ]
    },
    {
     "data": {
      "image/png": "[encoded data removed]",
      "text/plain": [
       "<IPython.core.display.Image object>"
      ]
     },
     "metadata": {},
     "output_type": "display_data"
    },
    {
     "name": "stdout",
     "output_type": "stream",
     "text": [
      "+-----------------------+-----------+\n",
      "|        Category       |   Result  |\n",
      "+-----------------------+-----------+\n",
      "|      Ground Truth     | 3 - three |\n",
      "|       Prediction      | 3 - three |\n",
      "| Epistemic Uncertainty |    0.0    |\n",
      "| Aleatoric Uncertainty |    0.0    |\n",
      "|   Total Uncertainty   |    0.0    |\n",
      "+-----------------------+-----------+\n"
     ]
    },
    {
     "data": {
      "image/png": "[encoded data removed]",
      "text/plain": [
       "<IPython.core.display.Image object>"
      ]
     },
     "metadata": {},
     "output_type": "display_data"
    },
    {
     "name": "stdout",
     "output_type": "stream",
     "text": [
      "+-----------------------+----------+\n",
      "|        Category       |  Result  |\n",
      "+-----------------------+----------+\n",
      "|      Ground Truth     | 5 - five |\n",
      "|       Prediction      | 5 - five |\n",
      "| Epistemic Uncertainty |   0.0    |\n",
      "| Aleatoric Uncertainty |   0.0    |\n",
      "|   Total Uncertainty   |   0.0    |\n",
      "+-----------------------+----------+\n"
     ]
    },
    {
     "data": {
      "image/png": "[encoded data removed]",
      "text/plain": [
       "<IPython.core.display.Image object>"
      ]
     },
     "metadata": {},
     "output_type": "display_data"
    },
    {
     "name": "stdout",
     "output_type": "stream",
     "text": [
      "+-----------------------+-----------+\n",
      "|        Category       |   Result  |\n",
      "+-----------------------+-----------+\n",
      "|      Ground Truth     | 8 - eight |\n",
      "|       Prediction      | 8 - eight |\n",
      "| Epistemic Uncertainty |    0.0    |\n",
      "| Aleatoric Uncertainty |    0.0    |\n",
      "|   Total Uncertainty   |    0.0    |\n",
      "+-----------------------+-----------+\n"
     ]
    },
    {
     "data": {
      "image/png": "[encoded data removed]",
      "text/plain": [
       "<IPython.core.display.Image object>"
      ]
     },
     "metadata": {},
     "output_type": "display_data"
    },
    {
     "name": "stdout",
     "output_type": "stream",
     "text": [
      "+-----------------------+---------+\n",
      "|        Category       |  Result |\n",
      "+-----------------------+---------+\n",
      "|      Ground Truth     | 2 - two |\n",
      "|       Prediction      | 2 - two |\n",
      "| Epistemic Uncertainty |   0.0   |\n",
      "| Aleatoric Uncertainty |   0.0   |\n",
      "|   Total Uncertainty   |   0.0   |\n",
      "+-----------------------+---------+\n"
     ]
    },
    {
     "data": {
      "image/png": "[encoded data removed]",
      "text/plain": [
       "<IPython.core.display.Image object>"
      ]
     },
     "metadata": {},
     "output_type": "display_data"
    },
    {
     "name": "stdout",
     "output_type": "stream",
     "text": [
      "+-----------------------+-----------+\n",
      "|        Category       |   Result  |\n",
      "+-----------------------+-----------+\n",
      "|      Ground Truth     | 8 - eight |\n",
      "|       Prediction      | 8 - eight |\n",
      "| Epistemic Uncertainty |    0.0    |\n",
      "| Aleatoric Uncertainty |    0.0    |\n",
      "|   Total Uncertainty   |    0.0    |\n",
      "+-----------------------+-----------+\n"
     ]
    },
    {
     "data": {
      "image/png": "[encoded data removed]",
      "text/plain": [
       "<IPython.core.display.Image object>"
      ]
     },
     "metadata": {},
     "output_type": "display_data"
    },
    {
     "name": "stdout",
     "output_type": "stream",
     "text": [
      "+-----------------------+-----------+\n",
      "|        Category       |   Result  |\n",
      "+-----------------------+-----------+\n",
      "|      Ground Truth     | 3 - three |\n",
      "|       Prediction      | 3 - three |\n",
      "| Epistemic Uncertainty |    0.0    |\n",
      "| Aleatoric Uncertainty |    0.0    |\n",
      "|   Total Uncertainty   |    0.0    |\n",
      "+-----------------------+-----------+\n"
     ]
    },
    {
     "data": {
      "image/png": "[encoded data removed]",
      "text/plain": [
       "<IPython.core.display.Image object>"
      ]
     },
     "metadata": {},
     "output_type": "display_data"
    },
    {
     "name": "stdout",
     "output_type": "stream",
     "text": [
      "+-----------------------+-----------+\n",
      "|        Category       |   Result  |\n",
      "+-----------------------+-----------+\n",
      "|      Ground Truth     | 8 - eight |\n",
      "|       Prediction      | 8 - eight |\n",
      "| Epistemic Uncertainty |    0.0    |\n",
      "| Aleatoric Uncertainty |    0.0    |\n",
      "|   Total Uncertainty   |    0.0    |\n",
      "+-----------------------+-----------+\n"
     ]
    },
    {
     "data": {
      "image/png": "[encoded data removed]",
      "text/plain": [
       "<IPython.core.display.Image object>"
      ]
     },
     "metadata": {},
     "output_type": "display_data"
    },
    {
     "name": "stdout",
     "output_type": "stream",
     "text": [
      "+-----------------------+-----------+\n",
      "|        Category       |   Result  |\n",
      "+-----------------------+-----------+\n",
      "|      Ground Truth     | 3 - three |\n",
      "|       Prediction      | 3 - three |\n",
      "| Epistemic Uncertainty |    0.0    |\n",
      "| Aleatoric Uncertainty |    0.0    |\n",
      "|   Total Uncertainty   |    0.0    |\n",
      "+-----------------------+-----------+\n"
     ]
    }
   ],
   "source": [
    "i = 0\n",
    "for (img, label) in test_data_loader:\n",
    "    i += 1\n",
    "    make_bayes_image(img, label, i=i)"
   ]
  },
  {
   "cell_type": "code",
   "execution_count": 46,
   "id": "4e0ea6c1",
   "metadata": {},
   "outputs": [],
   "source": [
    "def get_prediction(model, img, label, T=15):\n",
    "    \n",
    "    with torch.no_grad():\n",
    "\n",
    "        # getting original img and interpreting the label\n",
    "        original_img = img.numpy().squeeze(axis=(0,1))\n",
    "        ground_truth_label = test_data.dataset.classes[label.numpy()[0]]\n",
    "\n",
    "        input_image = img.unsqueeze(0)\n",
    "        input_images = img.repeat(T, 1, 1, 1)\n",
    "        \n",
    "        # getting network output\n",
    "        network_output = model(input_images)\n",
    "        prediction = torch.mean(network_output, dim=0).cpu().detach().numpy()\n",
    "        predicted_indx = prediction.argmax(axis=0)\n",
    "        predicted_label = test_data.dataset.classes[predicted_indx]\n",
    "        \n",
    "    results = {\n",
    "        'ground_truth_label': ground_truth_label,\n",
    "        'predicted_label': predicted_label\n",
    "    }\n",
    "\n",
    "    return results"
   ]
  },
  {
   "cell_type": "code",
   "execution_count": 20,
   "id": "aaf7865f",
   "metadata": {},
   "outputs": [],
   "source": [
    "results = []\n",
    "for (img, label) in test_data_loader:\n",
    "    results.append(get_prediction(bayes_model, img, label))"
   ]
  },
  {
   "cell_type": "code",
   "execution_count": 23,
   "id": "02298c37",
   "metadata": {},
   "outputs": [
    {
     "data": {
      "text/plain": [
       "[{'ground_truth_label': '9 - nine', 'predicted_label': '9 - nine'},\n",
       " {'ground_truth_label': '0 - zero', 'predicted_label': '0 - zero'},\n",
       " {'ground_truth_label': '3 - three', 'predicted_label': '3 - three'}]"
      ]
     },
     "execution_count": 23,
     "metadata": {},
     "output_type": "execute_result"
    }
   ],
   "source": [
    "results[:3]"
   ]
  },
  {
   "cell_type": "code",
   "execution_count": 24,
   "id": "b060ff21",
   "metadata": {},
   "outputs": [],
   "source": [
    "def make_prediction_image(img, prediction_results, save_file='test_output.png'):\n",
    "    ground_truth_label = prediction_results['ground_truth_label']\n",
    "    predicted_label = prediction_results['predicted_label']\n",
    "    color = (0, 255, 0) if ground_truth_label == predicted_label else (0, 0, 255)\n",
    "    \n",
    "    original_img = img.numpy().squeeze(axis=(0,1))\n",
    "    original_img = np.dstack([original_img] * 3)\n",
    "    original_img = imutils.resize(original_img, width=128)\n",
    "    original_img = cv2.putText(original_img, ground_truth_label, (2, 25), cv2.FONT_HERSHEY_SIMPLEX, 0.75, color, 2)\n",
    "    \n",
    "    #text_summary = \"Trial: {}\\n Ground truth label: {}, predicted label: {}\\n\".format(trial_no, ground_truth_label, predicted_label)\n",
    "    #uncertainty_annotation = \"uncertainty from model: {}\\nuncertainty from data: {}\\ntotal uncertainty: {}\".format(epistemic, aleatoric, total_uncertainty)\n",
    "    #print(text_summary, uncertainty_annotation)\n",
    "    \n",
    "    cv2.imwrite(save_file, original_img*255)\n",
    "\n",
    "    return"
   ]
  },
  {
   "cell_type": "code",
   "execution_count": 25,
   "id": "d1e621c4",
   "metadata": {},
   "outputs": [
    {
     "data": {
      "text/plain": [
       "{'ground_truth_label': '3 - three', 'predicted_label': '3 - three'}"
      ]
     },
     "execution_count": 25,
     "metadata": {},
     "output_type": "execute_result"
    }
   ],
   "source": [
    "results[-1]"
   ]
  },
  {
   "cell_type": "code",
   "execution_count": 26,
   "id": "fe974b74",
   "metadata": {},
   "outputs": [
    {
     "data": {
      "image/png": "[encoded data removed]",
      "text/plain": [
       "<IPython.core.display.Image object>"
      ]
     },
     "metadata": {},
     "output_type": "display_data"
    }
   ],
   "source": [
    "for (img, label) in test_data_loader:\n",
    "    make_prediction_image(img, get_prediction(bayes_model, img, label))\n",
    "\n",
    "display(Image(filename='test_output.png'))"
   ]
  },
  {
   "cell_type": "code",
   "execution_count": 43,
   "id": "39cb0f89",
   "metadata": {},
   "outputs": [],
   "source": [
    "def get_prediction_with_uncertainties(model, img, label, T=15, normalized=False):\n",
    "    with torch.no_grad():\n",
    "        # getting original img and interpreting the label\n",
    "        original_img = img.numpy().squeeze(axis=(0,1))\n",
    "        ground_truth_label = test_data.dataset.classes[label.numpy()[0]]\n",
    "\n",
    "        input_image = img.unsqueeze(0)\n",
    "        input_images = img.repeat(T, 1, 1, 1)\n",
    "        \n",
    "        # getting network output\n",
    "        network_output = bayes_model(input_images)\n",
    "        prediction = torch.mean(network_output, dim=0).cpu().detach().numpy()\n",
    "        predicted_indx = prediction.argmax(axis=0)\n",
    "        predicted_label = test_data.dataset.classes[predicted_indx]\n",
    "\n",
    "        # getting uncertainties\n",
    "        if normalized:\n",
    "            pred = F.softplus(network_output)\n",
    "            p_hat = pred / torch.sum(pred, dim=1).unsqueeze(1)\n",
    "        else:\n",
    "            p_hat = F.softmax(network_output, dim=1)\n",
    "        p_hat = p_hat.detach().cpu().numpy()\n",
    "        p_bar = np.mean(p_hat, axis=0)\n",
    "\n",
    "        temp = p_hat - np.expand_dims(p_bar, 0)\n",
    "        epistemic_ucs = np.dot(temp.T, temp) / T\n",
    "        epistemic_ucs = np.diag(epistemic_ucs)\n",
    "\n",
    "        aleatoric_ucs = np.diag(p_bar) - (np.dot(p_hat.T, p_hat) / T)\n",
    "        aleatoric_ucs = np.diag(aleatoric_ucs)\n",
    "\n",
    "        epistemic = epistemic_ucs[predicted_indx]\n",
    "        aleatoric = aleatoric_ucs[predicted_indx]\n",
    "        total_uncertainty = np.sqrt(epistemic**2 + aleatoric**2)\n",
    "\n",
    "        results = {\n",
    "            'ground_truth_label': ground_truth_label,\n",
    "            'predicted_label': predicted_label,\n",
    "            'epistemic_uncertainty': epistemic,\n",
    "            'aleatoric_uncertainty': aleatoric,\n",
    "            'total_uncertainty': total_uncertainty\n",
    "        }\n",
    "        \n",
    "        return results\n",
    "\n",
    "            \n",
    "            "
   ]
  },
  {
   "cell_type": "code",
   "execution_count": 54,
   "id": "baf6095e",
   "metadata": {},
   "outputs": [],
   "source": [
    "uncertain_results = []\n",
    "for (img, label) in test_data_loader:\n",
    "    uncertain_results.append(get_prediction_with_uncertainties(bayes_model, img, label))"
   ]
  },
  {
   "cell_type": "code",
   "execution_count": 55,
   "id": "093eb0b4",
   "metadata": {},
   "outputs": [
    {
     "data": {
      "text/plain": [
       "5.684342e-14"
      ]
     },
     "execution_count": 55,
     "metadata": {},
     "output_type": "execute_result"
    }
   ],
   "source": [
    "uncertain_results[0]['epistemic_uncertainty']"
   ]
  },
  {
   "cell_type": "code",
   "execution_count": 57,
   "id": "4a67a011",
   "metadata": {},
   "outputs": [],
   "source": [
    "def make_uncertainties_ascii(prediction_results, show=True):\n",
    "\n",
    "    uc_table = PrettyTable()\n",
    "    uc_table.add_column(\"Category\", ['Ground Truth', 'Prediction', 'Epistemic Uncertainty', 'Aleatoric Uncertainty', 'Total Uncertainty'])\n",
    "    uc_table.add_column(\"Result\", [ground_truth_label, predicted_label, epistemic, aleatoric, total_uncertainty])\n",
    "    table_str = uc_table.get_string()\n",
    "    if show:\n",
    "        print(table_str)\n",
    "    \n",
    "    return table_str\n",
    "\n",
    "\n"
   ]
  },
  {
   "cell_type": "code",
   "execution_count": 58,
   "id": "aa57f04f",
   "metadata": {},
   "outputs": [
    {
     "name": "stdout",
     "output_type": "stream",
     "text": [
      "+-----------------------+-----------+\n",
      "|        Category       |   Result  |\n",
      "+-----------------------+-----------+\n",
      "|      Ground Truth     | 3 - three |\n",
      "|       Prediction      | 3 - three |\n",
      "| Epistemic Uncertainty |    0.0    |\n",
      "| Aleatoric Uncertainty |    0.0    |\n",
      "|   Total Uncertainty   |    0.0    |\n",
      "+-----------------------+-----------+\n"
     ]
    },
    {
     "data": {
      "text/plain": [
       "'+-----------------------+-----------+\\n|        Category       |   Result  |\\n+-----------------------+-----------+\\n|      Ground Truth     | 3 - three |\\n|       Prediction      | 3 - three |\\n| Epistemic Uncertainty |    0.0    |\\n| Aleatoric Uncertainty |    0.0    |\\n|   Total Uncertainty   |    0.0    |\\n+-----------------------+-----------+'"
      ]
     },
     "execution_count": 58,
     "metadata": {},
     "output_type": "execute_result"
    }
   ],
   "source": [
    "make_uncertainties_ascii(uncertain_results[0])"
   ]
  },
  {
   "cell_type": "code",
   "execution_count": null,
   "id": "8d4489c3",
   "metadata": {},
   "outputs": [],
   "source": []
  }
 ],
 "metadata": {
  "kernelspec": {
   "display_name": "Python 3 (ipykernel)",
   "language": "python",
   "name": "python3"
  },
  "language_info": {
   "codemirror_mode": {
    "name": "ipython",
    "version": 3
   },
   "file_extension": ".py",
   "mimetype": "text/x-python",
   "name": "python",
   "nbconvert_exporter": "python",
   "pygments_lexer": "ipython3",
   "version": "3.9.6"
  }
 },
 "nbformat": 4,
 "nbformat_minor": 5
}
