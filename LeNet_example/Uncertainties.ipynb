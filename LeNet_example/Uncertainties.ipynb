{
 "cells": [
  {
   "cell_type": "markdown",
   "id": "5d8fc9e7",
   "metadata": {},
   "source": [
    "## Loading Trained Models and Data"
   ]
  },
  {
   "cell_type": "code",
   "execution_count": 51,
   "id": "24d92cf1",
   "metadata": {},
   "outputs": [],
   "source": [
    "import numpy as np\n",
    "import torch\n",
    "from torch.utils.data import DataLoader\n",
    "from torch.utils.data import Subset\n",
    "from torchvision.transforms import ToTensor\n",
    "from torchvision.datasets import MNIST\n",
    "from torch.nn import functional as F\n",
    "import imutils\n",
    "import cv2"
   ]
  },
  {
   "cell_type": "code",
   "execution_count": 76,
   "id": "eff3198c",
   "metadata": {},
   "outputs": [],
   "source": [
    "# Loading data from MNIST and grabbing N data points\n",
    "N = 10\n",
    "test_data = MNIST(root='data', train=False, download=True, transform=ToTensor())\n",
    "indxs = np.random.choice(range(len(test_data)), size=(N,))\n",
    "test_data = Subset(test_data, indxs)\n",
    "\n",
    "# Initializing test data loader\n",
    "test_data_loader = DataLoader(test_data, batch_size=1)"
   ]
  },
  {
   "cell_type": "code",
   "execution_count": 13,
   "id": "5ad02d21",
   "metadata": {},
   "outputs": [
    {
     "data": {
      "text/plain": [
       "''"
      ]
     },
     "execution_count": 13,
     "metadata": {},
     "output_type": "execute_result"
    }
   ],
   "source": [
    "# Loading our saved models\n",
    "# the following abbreviations are used throughout:\n",
    "# freq -> normal LeNet\n",
    "# bayes -> bayesian version of LeNet\n",
    "\n",
    "freq_path = 'output/freq_model.pth'\n",
    "bayes_path = 'output/bayesian_model.pth'\n",
    "\n",
    "device = torch.device(\"cuda\" if torch.cuda.is_available() else \"cpu\")\n",
    "\n",
    "freq_model = torch.load(freq_path).to(device)\n",
    "bayes_model = torch.load(bayes_path).to(device)\n",
    "\n",
    "freq_model.eval()\n",
    "bayes_model.eval()\n",
    "\n",
    ";"
   ]
  },
  {
   "cell_type": "markdown",
   "id": "64d5a615",
   "metadata": {},
   "source": [
    "## Making Predictions"
   ]
  },
  {
   "cell_type": "code",
   "execution_count": 21,
   "id": "f6dc2339",
   "metadata": {},
   "outputs": [],
   "source": [
    "pictures = []"
   ]
  },
  {
   "cell_type": "code",
   "execution_count": 45,
   "id": "c9018a37",
   "metadata": {},
   "outputs": [],
   "source": [
    "# let's make a batch of predictions for the frequentist model\n",
    "# after we write this explicitly, there should be some parts we \n",
    "# can make into their own functions\n",
    "\n",
    "torch.no_grad()\n",
    "\n",
    "trail_no = 0\n",
    "\n",
    "for (img, label) in test_data_loader:\n",
    "    trial_no += 1\n",
    "\n",
    "    # getting original img and interpreting the label\n",
    "    original_img = img.numpy().squeeze(axis=(0,1))\n",
    "    ground_truth_label = test_data.dataset.classes[label.numpy()[0]]\n",
    "\n",
    "    #pictures.append(original_img)\n",
    "    \n",
    "    network_output = freq_model(img)\n",
    "    prediction = torch.mean(network_output, dim=0).cpu().detach().numpy()\n",
    "    predicted_indx = prediction.argmax(axis=0)\n",
    "    predicted_label = test_data.dataset.classes[predicted_indx]\n",
    "    \n",
    "    color = (0, 255, 0) if ground_truth_label == predicted_label else (0, 0, 255)\n",
    "    original_img = np.dstack([original_img] * 3)\n",
    "    original_img = imutils.resize(original_img, width=128)\n",
    "    original_img = cv2.putText(original_img, ground_truth_label, (2, 25), cv2.FONT_HERSHEY_SIMPLEX, 0.75, color, 2)\n",
    "    #text_summary = \"Trial: {}\\n Ground truth label: {}, predicted label: {}\\n\".format(trial_no, ground_truth_label, predicted_label)\n",
    "    \n",
    "    cv2.imwrite('test_output.png', original_img*255)\n",
    "    #display(Image(filename='test_output.png'))\n",
    "    \n",
    "    \n",
    "    \n",
    "    \n"
   ]
  },
  {
   "cell_type": "code",
   "execution_count": 39,
   "id": "9cfbfc83",
   "metadata": {},
   "outputs": [],
   "source": [
    "# function: get pred for single model/image\n",
    "# function: make prediction grid(n)\n",
    "# function: get pred and uncertainties for a single model/image\n",
    "# function: get p_hat from network out\n",
    "# function: display pred's and uc's "
   ]
  },
  {
   "cell_type": "code",
   "execution_count": 35,
   "id": "0636ec77",
   "metadata": {},
   "outputs": [
    {
     "data": {
      "text/plain": [
       "True"
      ]
     },
     "execution_count": 35,
     "metadata": {},
     "output_type": "execute_result"
    }
   ],
   "source": [
    "from IPython.display import Image, display\n",
    "\n",
    "\n",
    "original_img = pictures[0]\n",
    "original_img = np.dstack([original_img] * 3)\n",
    "original_img = imutils.resize(original_img, width=128)\n",
    "\n",
    "cv2.imwrite('test_output.png', original_img*255)\n",
    "\n",
    "#display(Image(filename='test_output.png'))"
   ]
  },
  {
   "cell_type": "code",
   "execution_count": null,
   "id": "203e81c2",
   "metadata": {},
   "outputs": [],
   "source": []
  },
  {
   "cell_type": "code",
   "execution_count": 56,
   "id": "5408005b",
   "metadata": {},
   "outputs": [
    {
     "name": "stdout",
     "output_type": "stream",
     "text": [
      "Trial: 91\n",
      " Ground truth label: 9 - nine, predicted label: 9 - nine\n",
      " uncertainty from model: 0.0\n",
      "uncertainty from data: 0.0\n",
      "total uncertainty: 0.0\n"
     ]
    },
    {
     "data": {
      "image/png": "[encoded data removed]",
      "text/plain": [
       "<IPython.core.display.Image object>"
      ]
     },
     "metadata": {},
     "output_type": "display_data"
    },
    {
     "name": "stdout",
     "output_type": "stream",
     "text": [
      "Trial: 92\n",
      " Ground truth label: 2 - two, predicted label: 2 - two\n",
      " uncertainty from model: 0.0\n",
      "uncertainty from data: 0.0\n",
      "total uncertainty: 0.0\n"
     ]
    },
    {
     "data": {
      "image/png": "[encoded data removed]",
      "text/plain": [
       "<IPython.core.display.Image object>"
      ]
     },
     "metadata": {},
     "output_type": "display_data"
    },
    {
     "name": "stdout",
     "output_type": "stream",
     "text": [
      "Trial: 93\n",
      " Ground truth label: 2 - two, predicted label: 2 - two\n",
      " uncertainty from model: 3.552713678800501e-15\n",
      "uncertainty from data: 0.0\n",
      "total uncertainty: 3.552713678800501e-15\n"
     ]
    },
    {
     "data": {
      "image/png": "[encoded data removed]",
      "text/plain": [
       "<IPython.core.display.Image object>"
      ]
     },
     "metadata": {},
     "output_type": "display_data"
    },
    {
     "name": "stdout",
     "output_type": "stream",
     "text": [
      "Trial: 94\n",
      " Ground truth label: 7 - seven, predicted label: 7 - seven\n",
      " uncertainty from model: 5.684341886080802e-14\n",
      "uncertainty from data: 7.152557373046875e-07\n",
      "total uncertainty: 7.152557373046897e-07\n"
     ]
    },
    {
     "data": {
      "image/png": "[encoded data removed]",
      "text/plain": [
       "<IPython.core.display.Image object>"
      ]
     },
     "metadata": {},
     "output_type": "display_data"
    },
    {
     "name": "stdout",
     "output_type": "stream",
     "text": [
      "Trial: 95\n",
      " Ground truth label: 7 - seven, predicted label: 7 - seven\n",
      " uncertainty from model: 1.4210854715202004e-14\n",
      "uncertainty from data: 0.00030666589736938477\n",
      "total uncertainty: 0.00030666589736938477\n"
     ]
    },
    {
     "data": {
      "image/png": "[encoded data removed]",
      "text/plain": [
       "<IPython.core.display.Image object>"
      ]
     },
     "metadata": {},
     "output_type": "display_data"
    }
   ],
   "source": [
    "# bayes model + trying to calculate uncertainties\n",
    "\n",
    "torch.no_grad()\n",
    "\n",
    "trail_no = 0\n",
    "T = 15\n",
    "\n",
    "for (img, label) in test_data_loader:\n",
    "    trial_no += 1\n",
    "\n",
    "    # getting original img and interpreting the label\n",
    "    original_img = img.numpy().squeeze(axis=(0,1))\n",
    "    ground_truth_label = test_data.dataset.classes[label.numpy()[0]]\n",
    "    \n",
    "    input_image = img.unsqueeze(0)\n",
    "    input_images = img.repeat(T, 1, 1, 1)\n",
    "\n",
    "    network_output = bayes_model(input_images)\n",
    "    prediction = torch.mean(network_output, dim=0).cpu().detach().numpy()\n",
    "    predicted_indx = prediction.argmax(axis=0)\n",
    "    predicted_label = test_data.dataset.classes[predicted_indx]\n",
    "    \n",
    "    \n",
    "    # getting uncertainties\n",
    "    normalized = False\n",
    "    if normalized:\n",
    "        pred = F.softplus(network_output)\n",
    "        p_hat = pred / torch.sum(pred, dim=1).unsqueeze(1)\n",
    "    else:\n",
    "        p_hat = F.softmax(network_output, dim=1)\n",
    "    p_hat = p_hat.detach().cpu().numpy()\n",
    "    p_bar = np.mean(p_hat, axis=0)\n",
    "    \n",
    "    temp = p_hat - np.expand_dims(p_bar, 0)\n",
    "    epistemic_ucs = np.dot(temp.T, temp) / T\n",
    "    epistemic_ucs = np.diag(epistemic_ucs)\n",
    "\n",
    "    aleatoric_ucs = np.diag(p_bar) - (np.dot(p_hat.T, p_hat) / T)\n",
    "    aleatoric_ucs = np.diag(aleatoric_ucs)\n",
    "    \n",
    "    epistemic = epistemic_ucs[predicted_indx]\n",
    "    aleatoric = aleatoric_ucs[predicted_indx]\n",
    "    total_uncertainty = np.sqrt(epistemic**2 + aleatoric**2)\n",
    "    \n",
    "    \n",
    "    color = (0, 255, 0) if ground_truth_label == predicted_label else (0, 0, 255)\n",
    "    original_img = np.dstack([original_img] * 3)\n",
    "    original_img = imutils.resize(original_img, width=128)\n",
    "    original_img = cv2.putText(original_img, ground_truth_label, (2, 25), cv2.FONT_HERSHEY_SIMPLEX, 0.75, color, 2)\n",
    "    text_summary = \"Trial: {}\\n Ground truth label: {}, predicted label: {}\\n\".format(trial_no, ground_truth_label, predicted_label)\n",
    "    uncertainty_annotation = \"uncertainty from model: {}\\nuncertainty from data: {}\\ntotal uncertainty: {}\".format(epistemic, aleatoric, total_uncertainty)\n",
    "    \n",
    "    \n",
    "    print(text_summary, uncertainty_annotation)\n",
    "    cv2.imwrite('test_output.png', original_img*255)\n",
    "    display(Image(filename='test_output.png'))"
   ]
  },
  {
   "cell_type": "code",
   "execution_count": 61,
   "id": "ca954e44",
   "metadata": {},
   "outputs": [
    {
     "name": "stdout",
     "output_type": "stream",
     "text": [
      "\u001b[33mDEPRECATION: Configuring installation scheme with distutils config files is deprecated and will no longer work in the near future. If you are using a Homebrew or Linuxbrew Python, please see discussion at https://github.com/Homebrew/homebrew-core/issues/76621\u001b[0m\n",
      "Requirement already satisfied: PrettyTable in /usr/local/lib/python3.9/site-packages (3.0.0)\n",
      "Requirement already satisfied: wcwidth in /usr/local/lib/python3.9/site-packages (from PrettyTable) (0.2.5)\n"
     ]
    }
   ],
   "source": [
    "import sys\n",
    "!{sys.executable} -m pip install PrettyTable"
   ]
  },
  {
   "cell_type": "code",
   "execution_count": 62,
   "id": "3a9d1abb",
   "metadata": {},
   "outputs": [],
   "source": [
    "from prettytable import PrettyTable"
   ]
  },
  {
   "cell_type": "code",
   "execution_count": 79,
   "id": "6e6749df",
   "metadata": {},
   "outputs": [],
   "source": [
    "def make_bayes_image(img, label, i=0):\n",
    "    with torch.no_grad():\n",
    "        # getting original img and interpreting the label\n",
    "        original_img = img.numpy().squeeze(axis=(0,1))\n",
    "        ground_truth_label = test_data.dataset.classes[label.numpy()[0]]\n",
    "\n",
    "        input_image = img.unsqueeze(0)\n",
    "        input_images = img.repeat(T, 1, 1, 1)\n",
    "\n",
    "        network_output = bayes_model(input_images)\n",
    "        prediction = torch.mean(network_output, dim=0).cpu().detach().numpy()\n",
    "        predicted_indx = prediction.argmax(axis=0)\n",
    "        predicted_label = test_data.dataset.classes[predicted_indx]\n",
    "\n",
    "\n",
    "        # getting uncertainties\n",
    "        normalized = False\n",
    "        if normalized:\n",
    "            pred = F.softplus(network_output)\n",
    "            p_hat = pred / torch.sum(pred, dim=1).unsqueeze(1)\n",
    "        else:\n",
    "            p_hat = F.softmax(network_output, dim=1)\n",
    "        p_hat = p_hat.detach().cpu().numpy()\n",
    "        p_bar = np.mean(p_hat, axis=0)\n",
    "\n",
    "        temp = p_hat - np.expand_dims(p_bar, 0)\n",
    "        epistemic_ucs = np.dot(temp.T, temp) / T\n",
    "        epistemic_ucs = np.diag(epistemic_ucs)\n",
    "\n",
    "        aleatoric_ucs = np.diag(p_bar) - (np.dot(p_hat.T, p_hat) / T)\n",
    "        aleatoric_ucs = np.diag(aleatoric_ucs)\n",
    "\n",
    "        epistemic = epistemic_ucs[predicted_indx]\n",
    "        aleatoric = aleatoric_ucs[predicted_indx]\n",
    "        total_uncertainty = np.sqrt(epistemic**2 + aleatoric**2)\n",
    "\n",
    "\n",
    "        color = (0, 255, 0) if ground_truth_label == predicted_label else (0, 0, 255)\n",
    "        original_img = np.dstack([original_img] * 3)\n",
    "        original_img = imutils.resize(original_img, width=128)\n",
    "        original_img = cv2.putText(original_img, ground_truth_label, (2, 25), cv2.FONT_HERSHEY_SIMPLEX, 0.75, color, 2)\n",
    "        text_summary = \"Trial: {}\\n Ground truth label: {}, predicted label: {}\\n\".format(trial_no, ground_truth_label, predicted_label)\n",
    "        uncertainty_annotation = \"uncertainty from model: {}\\nuncertainty from data: {}\\ntotal uncertainty: {}\".format(epistemic, aleatoric, total_uncertainty)\n",
    "\n",
    "\n",
    "        #print(text_summary, uncertainty_annotation)\n",
    "        cv2.imwrite('bayes_image_{}.png'.format(i), original_img*255)\n",
    "        display(Image(filename='bayes_image_{}.png'.format(i)))\n",
    "        \n",
    "        uc_table = PrettyTable()\n",
    "        uc_table.add_column(\"Category\", ['Ground Truth', 'Prediction', 'Epistemic Uncertainty', 'Aleatoric Uncertainty', 'Total Uncertainty'])\n",
    "        uc_table.add_column(\"Result\", [ground_truth_label, predicted_label, epistemic, aleatoric, total_uncertainty])\n",
    "        print(uc_table.get_string())\n",
    "\n",
    "            \n",
    "            "
   ]
  },
  {
   "cell_type": "code",
   "execution_count": 80,
   "id": "d2f43cdc",
   "metadata": {},
   "outputs": [
    {
     "data": {
      "image/png": "[encoded data removed]",
      "text/plain": [
       "<IPython.core.display.Image object>"
      ]
     },
     "metadata": {},
     "output_type": "display_data"
    },
    {
     "name": "stdout",
     "output_type": "stream",
     "text": [
      "+-----------------------+---------+\n",
      "|        Category       |  Result |\n",
      "+-----------------------+---------+\n",
      "|      Ground Truth     | 6 - six |\n",
      "|       Prediction      | 6 - six |\n",
      "| Epistemic Uncertainty |   0.0   |\n",
      "| Aleatoric Uncertainty |   0.0   |\n",
      "|   Total Uncertainty   |   0.0   |\n",
      "+-----------------------+---------+\n"
     ]
    },
    {
     "data": {
      "image/png": "[encoded data removed]",
      "text/plain": [
       "<IPython.core.display.Image object>"
      ]
     },
     "metadata": {},
     "output_type": "display_data"
    },
    {
     "name": "stdout",
     "output_type": "stream",
     "text": [
      "+-----------------------+-----------------------+\n",
      "|        Category       |         Result        |\n",
      "+-----------------------+-----------------------+\n",
      "|      Ground Truth     |       8 - eight       |\n",
      "|       Prediction      |       8 - eight       |\n",
      "| Epistemic Uncertainty |     3.5527137e-15     |\n",
      "| Aleatoric Uncertainty |     5.6028366e-06     |\n",
      "|   Total Uncertainty   | 5.602836608886719e-06 |\n",
      "+-----------------------+-----------------------+\n"
     ]
    },
    {
     "data": {
      "image/png": "[encoded data removed]",
      "text/plain": [
       "<IPython.core.display.Image object>"
      ]
     },
     "metadata": {},
     "output_type": "display_data"
    },
    {
     "name": "stdout",
     "output_type": "stream",
     "text": [
      "+-----------------------+-----------------------+\n",
      "|        Category       |         Result        |\n",
      "+-----------------------+-----------------------+\n",
      "|      Ground Truth     |       3 - three       |\n",
      "|       Prediction      |       3 - three       |\n",
      "| Epistemic Uncertainty |      5.684342e-14     |\n",
      "| Aleatoric Uncertainty |     7.1525574e-07     |\n",
      "|   Total Uncertainty   | 7.152557373046897e-07 |\n",
      "+-----------------------+-----------------------+\n"
     ]
    },
    {
     "data": {
      "image/png": "[encoded data removed]",
      "text/plain": [
       "<IPython.core.display.Image object>"
      ]
     },
     "metadata": {},
     "output_type": "display_data"
    },
    {
     "name": "stdout",
     "output_type": "stream",
     "text": [
      "+-----------------------+---------------------+\n",
      "|        Category       |        Result       |\n",
      "+-----------------------+---------------------+\n",
      "|      Ground Truth     |       5 - five      |\n",
      "|       Prediction      |       5 - five      |\n",
      "| Epistemic Uncertainty |    3.1974423e-14    |\n",
      "| Aleatoric Uncertainty |     0.043364227     |\n",
      "|   Total Uncertainty   | 0.04336422681808472 |\n",
      "+-----------------------+---------------------+\n"
     ]
    },
    {
     "data": {
      "image/png": "[encoded data removed]",
      "text/plain": [
       "<IPython.core.display.Image object>"
      ]
     },
     "metadata": {},
     "output_type": "display_data"
    },
    {
     "name": "stdout",
     "output_type": "stream",
     "text": [
      "+-----------------------+---------------------+\n",
      "|        Category       |        Result       |\n",
      "+-----------------------+---------------------+\n",
      "|      Ground Truth     |       1 - one       |\n",
      "|       Prediction      |       1 - one       |\n",
      "| Epistemic Uncertainty |         0.0         |\n",
      "| Aleatoric Uncertainty |     4.196167e-05    |\n",
      "|   Total Uncertainty   | 4.1961669921875e-05 |\n",
      "+-----------------------+---------------------+\n"
     ]
    },
    {
     "data": {
      "image/png": "[encoded data removed]",
      "text/plain": [
       "<IPython.core.display.Image object>"
      ]
     },
     "metadata": {},
     "output_type": "display_data"
    },
    {
     "name": "stdout",
     "output_type": "stream",
     "text": [
      "+-----------------------+----------+\n",
      "|        Category       |  Result  |\n",
      "+-----------------------+----------+\n",
      "|      Ground Truth     | 4 - four |\n",
      "|       Prediction      | 4 - four |\n",
      "| Epistemic Uncertainty |   0.0    |\n",
      "| Aleatoric Uncertainty |   0.0    |\n",
      "|   Total Uncertainty   |   0.0    |\n",
      "+-----------------------+----------+\n"
     ]
    },
    {
     "data": {
      "image/png": "[encoded data removed]",
      "text/plain": [
       "<IPython.core.display.Image object>"
      ]
     },
     "metadata": {},
     "output_type": "display_data"
    },
    {
     "name": "stdout",
     "output_type": "stream",
     "text": [
      "+-----------------------+---------------------+\n",
      "|        Category       |        Result       |\n",
      "+-----------------------+---------------------+\n",
      "|      Ground Truth     |      3 - three      |\n",
      "|       Prediction      |      3 - three      |\n",
      "| Epistemic Uncertainty |         0.0         |\n",
      "| Aleatoric Uncertainty |     9.536743e-07    |\n",
      "|   Total Uncertainty   | 9.5367431640625e-07 |\n",
      "+-----------------------+---------------------+\n"
     ]
    },
    {
     "data": {
      "image/png": "[encoded data removed]",
      "text/plain": [
       "<IPython.core.display.Image object>"
      ]
     },
     "metadata": {},
     "output_type": "display_data"
    },
    {
     "name": "stdout",
     "output_type": "stream",
     "text": [
      "+-----------------------+---------+\n",
      "|        Category       |  Result |\n",
      "+-----------------------+---------+\n",
      "|      Ground Truth     | 6 - six |\n",
      "|       Prediction      | 6 - six |\n",
      "| Epistemic Uncertainty |   0.0   |\n",
      "| Aleatoric Uncertainty |   0.0   |\n",
      "|   Total Uncertainty   |   0.0   |\n",
      "+-----------------------+---------+\n"
     ]
    },
    {
     "data": {
      "image/png": "[encoded data removed]",
      "text/plain": [
       "<IPython.core.display.Image object>"
      ]
     },
     "metadata": {},
     "output_type": "display_data"
    },
    {
     "name": "stdout",
     "output_type": "stream",
     "text": [
      "+-----------------------+------------------------+\n",
      "|        Category       |         Result         |\n",
      "+-----------------------+------------------------+\n",
      "|      Ground Truth     |        1 - one         |\n",
      "|       Prediction      |        1 - one         |\n",
      "| Epistemic Uncertainty |     1.4210855e-14      |\n",
      "| Aleatoric Uncertainty |     2.4437904e-06      |\n",
      "|   Total Uncertainty   | 2.4437904357910156e-06 |\n",
      "+-----------------------+------------------------+\n"
     ]
    },
    {
     "data": {
      "image/png": "[encoded data removed]",
      "text/plain": [
       "<IPython.core.display.Image object>"
      ]
     },
     "metadata": {},
     "output_type": "display_data"
    },
    {
     "name": "stdout",
     "output_type": "stream",
     "text": [
      "+-----------------------+----------------------+\n",
      "|        Category       |        Result        |\n",
      "+-----------------------+----------------------+\n",
      "|      Ground Truth     |       1 - one        |\n",
      "|       Prediction      |       1 - one        |\n",
      "| Epistemic Uncertainty |         0.0          |\n",
      "| Aleatoric Uncertainty |    0.00012588501     |\n",
      "|   Total Uncertainty   | 0.000125885009765625 |\n",
      "+-----------------------+----------------------+\n"
     ]
    }
   ],
   "source": [
    "i = 0\n",
    "for (img, label) in test_data_loader:\n",
    "    i += 1\n",
    "    make_bayes_image(img, label, i=i)"
   ]
  },
  {
   "cell_type": "code",
   "execution_count": null,
   "id": "4e0ea6c1",
   "metadata": {},
   "outputs": [],
   "source": []
  }
 ],
 "metadata": {
  "kernelspec": {
   "display_name": "Python 3 (ipykernel)",
   "language": "python",
   "name": "python3"
  },
  "language_info": {
   "codemirror_mode": {
    "name": "ipython",
    "version": 3
   },
   "file_extension": ".py",
   "mimetype": "text/x-python",
   "name": "python",
   "nbconvert_exporter": "python",
   "pygments_lexer": "ipython3",
   "version": "3.9.6"
  }
 },
 "nbformat": 4,
 "nbformat_minor": 5
}
