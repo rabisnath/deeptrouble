{
 "cells": [
  {
   "cell_type": "markdown",
   "id": "99f84a59",
   "metadata": {},
   "source": [
    "### So far we've done an example of Bayesian Classification (Bayesian LeNet on MNIST). In this notebook we move to the continuous regime."
   ]
  },
  {
   "cell_type": "code",
   "execution_count": 1,
   "id": "ef58b0fd",
   "metadata": {},
   "outputs": [],
   "source": [
    "import torch\n",
    "from torch.utils.data import DataLoader\n",
    "from torch.utils.data import random_split\n",
    "from sklearn.datasets import fetch_california_housing\n",
    "from sklearn.preprocessing import StandardScaler\n",
    "from sklearn.model_selection import train_test_split"
   ]
  },
  {
   "cell_type": "code",
   "execution_count": 10,
   "id": "e1a03325",
   "metadata": {},
   "outputs": [],
   "source": [
    "# hyperparameters\n",
    "learning_rate = 1e-3\n",
    "batch_size = 64\n",
    "epochs = 10\n",
    "# (1 - train_split) of the training data will be used for validation during training\n",
    "train_split = 0.75 \n"
   ]
  },
  {
   "cell_type": "markdown",
   "id": "7d2eba93",
   "metadata": {},
   "source": [
    "### Data Wrangling"
   ]
  },
  {
   "cell_type": "code",
   "execution_count": 3,
   "id": "86f18209",
   "metadata": {},
   "outputs": [],
   "source": [
    "# A wrapper to make our sklearn dataset pytorch friendly\n",
    "class CaliDataset(torch.utils.data.Dataset):\n",
    "    '''\n",
    "    Prepare the Cali dataset for regression\n",
    "    \n",
    "    -----\n",
    "    \n",
    "    Independent variables:\n",
    "    \n",
    "        MedInc median income in block group\n",
    "\n",
    "        HouseAge median house age in block group\n",
    "\n",
    "        AveRooms average number of rooms per household\n",
    "\n",
    "        AveBedrms average number of bedrooms per household\n",
    "\n",
    "        Population block group population\n",
    "\n",
    "        AveOccup average number of household members\n",
    "\n",
    "        Latitude block group latitude\n",
    "\n",
    "        Longitude block group longitude\n",
    "    \n",
    "    Depentent variable:\n",
    "    \n",
    "        Median house value for California districts, expressed in hundreds of thousands of dollars\n",
    "    \n",
    "    credit:\n",
    "    https://www.machinecurve.com/index.php/2021/07/20/how-to-create-a-neural-network-for-regression-with-pytorch/\n",
    "    \n",
    "    '''\n",
    "\n",
    "    def __init__(self, X, y, scale_data=True):\n",
    "        if not torch.is_tensor(X) and not torch.is_tensor(y):\n",
    "            # Apply scaling if necessary\n",
    "            if scale_data:\n",
    "                X = StandardScaler().fit_transform(X)\n",
    "            self.X = torch.from_numpy(X)\n",
    "            self.y = torch.from_numpy(y)\n",
    "\n",
    "    def __len__(self):\n",
    "        return len(self.X)\n",
    "\n",
    "    def __getitem__(self, i):\n",
    "        return self.X[i], self.y[i]"
   ]
  },
  {
   "cell_type": "code",
   "execution_count": 4,
   "id": "3ebe211a",
   "metadata": {},
   "outputs": [],
   "source": [
    "# loading our data and performing a train/test split\n",
    "X, y = fetch_california_housing(return_X_y=True)\n",
    "X_train, X_test, y_train, y_test = train_test_split(X, y, test_size=0.33, random_state=42)"
   ]
  },
  {
   "cell_type": "code",
   "execution_count": 5,
   "id": "1d4186da",
   "metadata": {},
   "outputs": [],
   "source": [
    "#X_train.shape"
   ]
  },
  {
   "cell_type": "code",
   "execution_count": 6,
   "id": "62cca99d",
   "metadata": {},
   "outputs": [],
   "source": [
    "#X_test.shape"
   ]
  },
  {
   "cell_type": "code",
   "execution_count": 7,
   "id": "16a9bfea",
   "metadata": {},
   "outputs": [],
   "source": [
    "#y_train.shape"
   ]
  },
  {
   "cell_type": "code",
   "execution_count": 8,
   "id": "7169a4df",
   "metadata": {},
   "outputs": [],
   "source": [
    "#y_test.shape"
   ]
  },
  {
   "cell_type": "code",
   "execution_count": 9,
   "id": "e579dfdc",
   "metadata": {},
   "outputs": [],
   "source": [
    "# setting up our datasets for training and testing\n",
    "train_data = CaliDataset(X_train, y_train)\n",
    "test_data = CaliDataset(X_test, y_test)\n",
    "\n",
    "# validation split\n",
    "n_train = int(train_split * len(train_data))\n",
    "n_val = len(train_data) - n_train\n",
    "(train_data, val_data) = random_split(train_data, [n_train, n_val], generator=torch.Generator().manual_seed(84))\n",
    "\n",
    "# initializing data loaders\n",
    "train_data_loader = DataLoader(train_data, batch_size=batch_size, shuffle=True)\n",
    "val_data_loader = DataLoader(val_data, batch_size=batch_size, shuffle=True)\n",
    "test_data_loader = DataLoader(test_data, batch_size=batch_size, shuffle=True)\n",
    "\n",
    "# calculating steps per epoch for training+val set\n",
    "training_steps = len(train_data_loader.dataset) // batch_size\n",
    "validation_steps = len(val_data_loader.dataset) // batch_size\n"
   ]
  },
  {
   "cell_type": "code",
   "execution_count": null,
   "id": "2eb1d22a",
   "metadata": {},
   "outputs": [],
   "source": []
  },
  {
   "cell_type": "markdown",
   "id": "ac8a4183",
   "metadata": {},
   "source": [
    "### Training"
   ]
  },
  {
   "cell_type": "code",
   "execution_count": 12,
   "id": "b902c3c4",
   "metadata": {},
   "outputs": [],
   "source": [
    "# setting training device\n",
    "device = torch.device(\"cuda\" if torch.cuda.is_available() else \"cpu\")"
   ]
  },
  {
   "cell_type": "code",
   "execution_count": 13,
   "id": "56852008",
   "metadata": {},
   "outputs": [],
   "source": [
    "from lenet import Bayesian_LeNet"
   ]
  },
  {
   "cell_type": "code",
   "execution_count": 18,
   "id": "e9a3edf7",
   "metadata": {
    "collapsed": true
   },
   "outputs": [
    {
     "ename": "AttributeError",
     "evalue": "",
     "output_type": "error",
     "traceback": [
      "\u001b[0;31m---------------------------------------------------------------------------\u001b[0m",
      "\u001b[0;31mAttributeError\u001b[0m                            Traceback (most recent call last)",
      "\u001b[0;32m/var/folders/nk/5v7kxgsd4jq9wkzh_9_0p6600000gn/T/ipykernel_55131/518337744.py\u001b[0m in \u001b[0;36m<module>\u001b[0;34m\u001b[0m\n\u001b[1;32m      1\u001b[0m \u001b[0;31m# initializing a Bayesian LeNet\u001b[0m\u001b[0;34m\u001b[0m\u001b[0;34m\u001b[0m\u001b[0;34m\u001b[0m\u001b[0m\n\u001b[0;32m----> 2\u001b[0;31m \u001b[0mmodel\u001b[0m \u001b[0;34m=\u001b[0m \u001b[0mBayesian_LeNet\u001b[0m\u001b[0;34m(\u001b[0m\u001b[0;36m1\u001b[0m\u001b[0;34m,\u001b[0m \u001b[0mlen\u001b[0m\u001b[0;34m(\u001b[0m\u001b[0mtrain_data\u001b[0m\u001b[0;34m.\u001b[0m\u001b[0mdataset\u001b[0m\u001b[0;34m.\u001b[0m\u001b[0mclasses\u001b[0m\u001b[0;34m)\u001b[0m\u001b[0;34m)\u001b[0m\u001b[0;31m#.to(device)\u001b[0m\u001b[0;34m\u001b[0m\u001b[0;34m\u001b[0m\u001b[0m\n\u001b[0m\u001b[1;32m      3\u001b[0m \u001b[0;31m#optimizer = Adam(model.parameters(), lr=learning_rate)\u001b[0m\u001b[0;34m\u001b[0m\u001b[0;34m\u001b[0m\u001b[0;34m\u001b[0m\u001b[0m\n\u001b[1;32m      4\u001b[0m \u001b[0;31m#loss_fn = nn.NLLLoss()\u001b[0m\u001b[0;34m\u001b[0m\u001b[0;34m\u001b[0m\u001b[0;34m\u001b[0m\u001b[0m\n",
      "\u001b[0;32m~/Library/Python/3.9/lib/python/site-packages/torch/utils/data/dataset.py\u001b[0m in \u001b[0;36m__getattr__\u001b[0;34m(self, attribute_name)\u001b[0m\n\u001b[1;32m     81\u001b[0m             \u001b[0;32mreturn\u001b[0m \u001b[0mfunction\u001b[0m\u001b[0;34m\u001b[0m\u001b[0;34m\u001b[0m\u001b[0m\n\u001b[1;32m     82\u001b[0m         \u001b[0;32melse\u001b[0m\u001b[0;34m:\u001b[0m\u001b[0;34m\u001b[0m\u001b[0;34m\u001b[0m\u001b[0m\n\u001b[0;32m---> 83\u001b[0;31m             \u001b[0;32mraise\u001b[0m \u001b[0mAttributeError\u001b[0m\u001b[0;34m\u001b[0m\u001b[0;34m\u001b[0m\u001b[0m\n\u001b[0m\u001b[1;32m     84\u001b[0m \u001b[0;34m\u001b[0m\u001b[0m\n\u001b[1;32m     85\u001b[0m     \u001b[0;34m@\u001b[0m\u001b[0mclassmethod\u001b[0m\u001b[0;34m\u001b[0m\u001b[0;34m\u001b[0m\u001b[0m\n",
      "\u001b[0;31mAttributeError\u001b[0m: "
     ]
    }
   ],
   "source": [
    "# initializing a Bayesian LeNet\n",
    "model = Bayesian_LeNet(1, len(train_data.dataset.classes)).to(device)\n",
    "#optimizer = Adam(model.parameters(), lr=learning_rate)\n",
    "#loss_fn = nn.NLLLoss()"
   ]
  },
  {
   "cell_type": "code",
   "execution_count": 19,
   "id": "1fd1b794",
   "metadata": {},
   "outputs": [
    {
     "data": {
      "text/plain": [
       "\"\\n\\nDuh this causes an error, LeNet is a CNN, and our data is \\na vector of numbers instead of an image\\n\\nTo do:\\nStudy the uncertainties more closely in the example that's working,\\nFind a dataset to work on the cts case.\\n\\n\""
      ]
     },
     "execution_count": 19,
     "metadata": {},
     "output_type": "execute_result"
    }
   ],
   "source": [
    "'''\n",
    "\n",
    "Duh this causes an error, LeNet is a CNN, and our data is \n",
    "a vector of numbers instead of an image\n",
    "\n",
    "To do:\n",
    "Study the uncertainties more closely in the example that's working,\n",
    "Find a dataset to work on the cts case.\n",
    "\n",
    "'''"
   ]
  },
  {
   "cell_type": "code",
   "execution_count": null,
   "id": "687f1ba9",
   "metadata": {},
   "outputs": [],
   "source": []
  },
  {
   "cell_type": "code",
   "execution_count": null,
   "id": "3fd037f1",
   "metadata": {},
   "outputs": [],
   "source": []
  },
  {
   "cell_type": "code",
   "execution_count": null,
   "id": "674fb88a",
   "metadata": {},
   "outputs": [],
   "source": []
  }
 ],
 "metadata": {
  "kernelspec": {
   "display_name": "Python 3 (ipykernel)",
   "language": "python",
   "name": "python3"
  },
  "language_info": {
   "codemirror_mode": {
    "name": "ipython",
    "version": 3
   },
   "file_extension": ".py",
   "mimetype": "text/x-python",
   "name": "python",
   "nbconvert_exporter": "python",
   "pygments_lexer": "ipython3",
   "version": "3.9.6"
  }
 },
 "nbformat": 4,
 "nbformat_minor": 5
}
